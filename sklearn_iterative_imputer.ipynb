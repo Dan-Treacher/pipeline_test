{
 "cells": [
  {
   "cell_type": "markdown",
   "metadata": {},
   "source": [
    "# Script to load the example data and test the iterative imputer from sklearn\n",
    "\n",
    "## Looks like you can't use the iterative_imputer on categorical data. Numberical only\n",
    "\n",
    "### Load libraries"
   ]
  },
  {
   "cell_type": "code",
   "execution_count": 9,
   "metadata": {},
   "outputs": [],
   "source": [
    "# The iterative imputer is still an experimental thing, so you've got to enable it explicitly\n",
    "from sklearn.experimental import enable_iterative_imputer\n",
    "from sklearn.impute import IterativeImputer\n",
    "\n",
    "import pandas as pd\n",
    "import numpy as np"
   ]
  },
  {
   "cell_type": "markdown",
   "metadata": {},
   "source": [
    "### Load data"
   ]
  },
  {
   "cell_type": "code",
   "execution_count": 10,
   "metadata": {},
   "outputs": [
    {
     "name": "stdout",
     "output_type": "stream",
     "text": [
      "<class 'pandas.core.frame.DataFrame'>\n",
      "RangeIndex: 1000 entries, 0 to 999\n",
      "Data columns (total 3 columns):\n",
      " #   Column       Non-Null Count  Dtype  \n",
      "---  ------       --------------  -----  \n",
      " 0   boatClass    1000 non-null   object \n",
      " 1   boatLength   1000 non-null   int64  \n",
      " 2   boatEngines  800 non-null    float64\n",
      "dtypes: float64(1), int64(1), object(1)\n",
      "memory usage: 23.6+ KB\n"
     ]
    }
   ],
   "source": [
    "df = pd.read_csv('data.csv').iloc[:,1:]\n",
    "df.info()"
   ]
  },
  {
   "cell_type": "code",
   "execution_count": 11,
   "metadata": {},
   "outputs": [
    {
     "data": {
      "text/plain": [
       "IterativeImputer(add_indicator=True, initial_strategy='most_frequent',\n",
       "                 n_nearest_features=2)"
      ]
     },
     "execution_count": 11,
     "metadata": {},
     "output_type": "execute_result"
    }
   ],
   "source": [
    "imputer = IterativeImputer(missing_values=np.nan\n",
    "                          , tol=1e-3\n",
    "                          , add_indicator=True\n",
    "                          , n_nearest_features=2\n",
    "                          , initial_strategy='most_frequent')\n",
    "imputer.fit(df[['boatLength', 'boatEngines']])"
   ]
  },
  {
   "cell_type": "code",
   "execution_count": 18,
   "metadata": {},
   "outputs": [
    {
     "data": {
      "text/plain": [
       "[_ImputerTriplet(feat_idx=0, neighbor_feat_idx=array([1], dtype=int64), estimator=BayesianRidge()),\n",
       " _ImputerTriplet(feat_idx=1, neighbor_feat_idx=array([0], dtype=int64), estimator=BayesianRidge()),\n",
       " _ImputerTriplet(feat_idx=0, neighbor_feat_idx=array([1], dtype=int64), estimator=BayesianRidge()),\n",
       " _ImputerTriplet(feat_idx=1, neighbor_feat_idx=array([0], dtype=int64), estimator=BayesianRidge())]"
      ]
     },
     "execution_count": 18,
     "metadata": {},
     "output_type": "execute_result"
    }
   ],
   "source": [
    "imputer.imputation_sequence_"
   ]
  },
  {
   "cell_type": "code",
   "execution_count": 24,
   "metadata": {},
   "outputs": [
    {
     "data": {
      "text/html": [
       "<div>\n",
       "<style scoped>\n",
       "    .dataframe tbody tr th:only-of-type {\n",
       "        vertical-align: middle;\n",
       "    }\n",
       "\n",
       "    .dataframe tbody tr th {\n",
       "        vertical-align: top;\n",
       "    }\n",
       "\n",
       "    .dataframe thead th {\n",
       "        text-align: right;\n",
       "    }\n",
       "</style>\n",
       "<table border=\"1\" class=\"dataframe\">\n",
       "  <thead>\n",
       "    <tr style=\"text-align: right;\">\n",
       "      <th></th>\n",
       "      <th>boatLength</th>\n",
       "      <th>boatEngines</th>\n",
       "      <th>boatEngines_na</th>\n",
       "    </tr>\n",
       "  </thead>\n",
       "  <tbody>\n",
       "    <tr>\n",
       "      <th>12</th>\n",
       "      <td>18.0</td>\n",
       "      <td>1.989446</td>\n",
       "      <td>1.0</td>\n",
       "    </tr>\n",
       "    <tr>\n",
       "      <th>16</th>\n",
       "      <td>53.0</td>\n",
       "      <td>1.858218</td>\n",
       "      <td>1.0</td>\n",
       "    </tr>\n",
       "    <tr>\n",
       "      <th>19</th>\n",
       "      <td>16.0</td>\n",
       "      <td>1.996945</td>\n",
       "      <td>1.0</td>\n",
       "    </tr>\n",
       "    <tr>\n",
       "      <th>22</th>\n",
       "      <td>54.0</td>\n",
       "      <td>1.854469</td>\n",
       "      <td>1.0</td>\n",
       "    </tr>\n",
       "    <tr>\n",
       "      <th>23</th>\n",
       "      <td>59.0</td>\n",
       "      <td>1.835722</td>\n",
       "      <td>1.0</td>\n",
       "    </tr>\n",
       "    <tr>\n",
       "      <th>...</th>\n",
       "      <td>...</td>\n",
       "      <td>...</td>\n",
       "      <td>...</td>\n",
       "    </tr>\n",
       "    <tr>\n",
       "      <th>975</th>\n",
       "      <td>21.0</td>\n",
       "      <td>1.978198</td>\n",
       "      <td>1.0</td>\n",
       "    </tr>\n",
       "    <tr>\n",
       "      <th>984</th>\n",
       "      <td>57.0</td>\n",
       "      <td>1.843221</td>\n",
       "      <td>1.0</td>\n",
       "    </tr>\n",
       "    <tr>\n",
       "      <th>986</th>\n",
       "      <td>26.0</td>\n",
       "      <td>1.959451</td>\n",
       "      <td>1.0</td>\n",
       "    </tr>\n",
       "    <tr>\n",
       "      <th>990</th>\n",
       "      <td>21.0</td>\n",
       "      <td>1.978198</td>\n",
       "      <td>1.0</td>\n",
       "    </tr>\n",
       "    <tr>\n",
       "      <th>992</th>\n",
       "      <td>3.0</td>\n",
       "      <td>2.045686</td>\n",
       "      <td>1.0</td>\n",
       "    </tr>\n",
       "  </tbody>\n",
       "</table>\n",
       "<p>200 rows × 3 columns</p>\n",
       "</div>"
      ],
      "text/plain": [
       "     boatLength  boatEngines  boatEngines_na\n",
       "12         18.0     1.989446             1.0\n",
       "16         53.0     1.858218             1.0\n",
       "19         16.0     1.996945             1.0\n",
       "22         54.0     1.854469             1.0\n",
       "23         59.0     1.835722             1.0\n",
       "..          ...          ...             ...\n",
       "975        21.0     1.978198             1.0\n",
       "984        57.0     1.843221             1.0\n",
       "986        26.0     1.959451             1.0\n",
       "990        21.0     1.978198             1.0\n",
       "992         3.0     2.045686             1.0\n",
       "\n",
       "[200 rows x 3 columns]"
      ]
     },
     "execution_count": 24,
     "metadata": {},
     "output_type": "execute_result"
    }
   ],
   "source": [
    "df2 = pd.DataFrame(imputer.transform(df[['boatLength', 'boatEngines']]))\n",
    "df2.columns = ['boatLength', 'boatEngines', 'boatEngines_na']\n",
    "df2.loc[df2['boatEngines_na'] == 1]"
   ]
  },
  {
   "cell_type": "code",
   "execution_count": 40,
   "metadata": {},
   "outputs": [
    {
     "name": "stdout",
     "output_type": "stream",
     "text": [
      "1 3\n",
      "2 1\n",
      "3 2\n",
      "4 nan\n",
      "5 6\n",
      "6 5\n",
      "7 nan\n",
      "8 1\n",
      "9 7\n",
      "10 2\n",
      "11 1\n",
      "12 2\n",
      "13 3\n",
      "14 2\n",
      "15 2\n",
      "16 4\n",
      "17 3\n",
      "18 5\n",
      "19 2\n",
      "20 3\n",
      "21 3\n",
      "22 nan\n",
      "23 2\n",
      "24 6\n",
      "25 1\n",
      "26 1\n",
      "27 3\n",
      "28 4\n",
      "29 4\n",
      "30 5\n",
      "31 4\n",
      "32 1\n",
      "33 2\n",
      "34 5\n",
      "35 3\n",
      "36 nan\n",
      "37 4\n",
      "38 6\n",
      "39 5\n",
      "40 1\n",
      "41 2\n",
      "42 2\n",
      "43 2\n",
      "44 6\n",
      "45 1\n",
      "46 2\n",
      "47 4\n",
      "48 2\n",
      "49 2\n",
      "50 2\n",
      "51 7\n",
      "52 7\n",
      "53 6\n",
      "54 5\n",
      "55 5\n",
      "56 3\n",
      "57 1\n",
      "58 1\n",
      "59 1\n"
     ]
    }
   ],
   "source": [
    "for length in list(sorted(df['boatLength'].unique()))[1:]:\n",
    "    try:\n",
    "        most_common_engines = df.loc[df['boatLength'] == length, 'boatEngines'].value_counts()[0]\n",
    "    except KeyError:\n",
    "        most_common_engines = np.nan\n",
    "        \n",
    "    print(length, most_common_engines)"
   ]
  }
 ],
 "metadata": {
  "kernelspec": {
   "display_name": "Python 3",
   "language": "python",
   "name": "python3"
  },
  "language_info": {
   "codemirror_mode": {
    "name": "ipython",
    "version": 3
   },
   "file_extension": ".py",
   "mimetype": "text/x-python",
   "name": "python",
   "nbconvert_exporter": "python",
   "pygments_lexer": "ipython3",
   "version": "3.8.3"
  }
 },
 "nbformat": 4,
 "nbformat_minor": 4
}
