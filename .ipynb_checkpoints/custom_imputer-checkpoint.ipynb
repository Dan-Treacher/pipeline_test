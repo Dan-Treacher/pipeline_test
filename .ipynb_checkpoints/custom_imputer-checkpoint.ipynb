{
 "cells": [
  {
   "cell_type": "markdown",
   "metadata": {},
   "source": [
    "# Script to make my own class that can be incorporated into an sklearn pipeline"
   ]
  },
  {
   "cell_type": "code",
   "execution_count": 1,
   "metadata": {},
   "outputs": [],
   "source": [
    "import pandas as pd\n",
    "import numpy as np\n",
    "\n",
    "from sklearn.base import BaseEstimator, TransformerMixin"
   ]
  },
  {
   "cell_type": "code",
   "execution_count": 2,
   "metadata": {},
   "outputs": [
    {
     "name": "stdout",
     "output_type": "stream",
     "text": [
      "<class 'pandas.core.frame.DataFrame'>\n",
      "RangeIndex: 1000 entries, 0 to 999\n",
      "Data columns (total 3 columns):\n",
      " #   Column       Non-Null Count  Dtype  \n",
      "---  ------       --------------  -----  \n",
      " 0   boatClass    1000 non-null   object \n",
      " 1   boatLength   1000 non-null   int64  \n",
      " 2   boatEngines  800 non-null    float64\n",
      "dtypes: float64(1), int64(1), object(1)\n",
      "memory usage: 23.6+ KB\n"
     ]
    }
   ],
   "source": [
    "df = pd.read_csv('data.csv').iloc[:,1:]\n",
    "df.info()"
   ]
  },
  {
   "cell_type": "markdown",
   "metadata": {},
   "source": [
    "### Define a class that has the standard methods required by the sklearn API in order to be used as part of a pipeline"
   ]
  },
  {
   "cell_type": "code",
   "execution_count": 3,
   "metadata": {},
   "outputs": [],
   "source": [
    "# By inheriting from BaseEstimator, TransformerMixin, we get access to the get_params and fit transform methods respectively\n",
    "class MostCommonImputer(BaseEstimator, TransformerMixin):\n",
    "    \n",
    "    def __init__(self, feature_with_gaps, reference_feature):\n",
    "        \"\"\"\n",
    "        Reference feature is the other feature that's going to be used to inform the imputation of the missing feature\n",
    "        \"\"\" \n",
    "        self.reference_feature = reference_feature\n",
    "        self.feature_with_gaps = feature_with_gaps\n",
    "        self.imputation_dict_ = {}\n",
    "    \n",
    "    def fit(self, X, y=None):\n",
    "        \"\"\"\n",
    "        Need to extract the relevant properties of the data here to apply in the transformation\n",
    "        \"\"\"\n",
    "        for value in X[self.reference_feature].unique():\n",
    "            try:\n",
    "                self.imputation_dict_[value] = X.loc[X[self.reference_feature] == value, self.feature_with_gaps].value_counts().index[0]\n",
    "            except KeyError:\n",
    "                self.imputation_dict_[value] = None\n",
    "        \n",
    "        return self\n",
    "    \n",
    "    def transform(self, X):\n",
    "        \"\"\"\n",
    "        Need to use the properties learnt in .fit() and apply them to an input dataframe\n",
    "        \"\"\"\n",
    "        #for ref_value in X[self.reference_feature].unique():\n",
    "        #    X.loc[X[self.reference_feature] == ref_value, self.feature_with_gaps].fillna(self.imputation_dict_[ref_value], inplace=True)\n",
    "        #    print(X.info())\n",
    "        \n",
    "        missing = X[self.feature_with_gaps].isna()\n",
    "        X[self.feature_with_gaps + '_na'] = np.where(X[self.feature_with_gaps].isna(), 1, 0)\n",
    "        X.loc[missing, self.feature_with_gaps] = X[self.reference_feature].map(self.imputation_dict_)\n",
    "        \n",
    "        return X"
   ]
  },
  {
   "cell_type": "code",
   "execution_count": 4,
   "metadata": {},
   "outputs": [],
   "source": [
    "imputer = MostCommonImputer('boatEngines', 'boatLength')"
   ]
  },
  {
   "cell_type": "code",
   "execution_count": 5,
   "metadata": {},
   "outputs": [
    {
     "data": {
      "text/plain": [
       "MostCommonImputer(feature_with_gaps='boatEngines',\n",
       "                  reference_feature='boatLength')"
      ]
     },
     "execution_count": 5,
     "metadata": {},
     "output_type": "execute_result"
    }
   ],
   "source": [
    "imputer.fit(df)"
   ]
  },
  {
   "cell_type": "code",
   "execution_count": 6,
   "metadata": {},
   "outputs": [
    {
     "data": {
      "text/plain": [
       "{10: 3.0,\n",
       " 45: 4.0,\n",
       " 23: 3.0,\n",
       " 0: 3.0,\n",
       " 7: 1.0,\n",
       " 4: 1.0,\n",
       " 28: 0.0,\n",
       " 43: 1.0,\n",
       " 6: 3.0,\n",
       " 57: 2.0,\n",
       " 42: 3.0,\n",
       " 18: 1.0,\n",
       " 9: 0.0,\n",
       " 54: 0.0,\n",
       " 55: 0.0,\n",
       " 53: 0.0,\n",
       " 50: 4.0,\n",
       " 31: 1.0,\n",
       " 16: 0.0,\n",
       " 58: 4.0,\n",
       " 29: 0.0,\n",
       " 59: 2.0,\n",
       " 44: 0.0,\n",
       " 40: 3.0,\n",
       " 52: 0.0,\n",
       " 3: 3.0,\n",
       " 48: 3.0,\n",
       " 47: 2.0,\n",
       " 22: 4.0,\n",
       " 21: 3.0,\n",
       " 26: 4.0,\n",
       " 15: 4.0,\n",
       " 11: 4.0,\n",
       " 19: 0.0,\n",
       " 2: 3.0,\n",
       " 36: 4.0,\n",
       " 41: 2.0,\n",
       " 34: 3.0,\n",
       " 20: 3.0,\n",
       " 17: 2.0,\n",
       " 8: 3.0,\n",
       " 51: 0.0,\n",
       " 56: 3.0,\n",
       " 46: 0.0,\n",
       " 25: 4.0,\n",
       " 24: 0.0,\n",
       " 33: 3.0,\n",
       " 5: 0.0,\n",
       " 37: 3.0,\n",
       " 30: 0.0,\n",
       " 12: 4.0,\n",
       " 1: 3.0,\n",
       " 27: 2.0,\n",
       " 49: 3.0,\n",
       " 32: 3.0,\n",
       " 35: 3.0,\n",
       " 39: 0.0,\n",
       " 38: 0.0,\n",
       " 14: 4.0,\n",
       " 13: 0.0}"
      ]
     },
     "execution_count": 6,
     "metadata": {},
     "output_type": "execute_result"
    }
   ],
   "source": [
    "imputer.imputation_dict_"
   ]
  },
  {
   "cell_type": "code",
   "execution_count": 7,
   "metadata": {},
   "outputs": [
    {
     "name": "stdout",
     "output_type": "stream",
     "text": [
      "<class 'pandas.core.frame.DataFrame'>\n",
      "RangeIndex: 1000 entries, 0 to 999\n",
      "Data columns (total 4 columns):\n",
      " #   Column          Non-Null Count  Dtype  \n",
      "---  ------          --------------  -----  \n",
      " 0   boatClass       1000 non-null   object \n",
      " 1   boatLength      1000 non-null   int64  \n",
      " 2   boatEngines     1000 non-null   float64\n",
      " 3   boatEngines_na  1000 non-null   int32  \n",
      "dtypes: float64(1), int32(1), int64(1), object(1)\n",
      "memory usage: 27.5+ KB\n"
     ]
    }
   ],
   "source": [
    "imputer.transform(df)\n",
    "df.info()"
   ]
  },
  {
   "cell_type": "code",
   "execution_count": 8,
   "metadata": {},
   "outputs": [
    {
     "data": {
      "text/plain": [
       "200"
      ]
     },
     "execution_count": 8,
     "metadata": {},
     "output_type": "execute_result"
    }
   ],
   "source": [
    "df['boatEngines_na'].sum()"
   ]
  },
  {
   "cell_type": "markdown",
   "metadata": {},
   "source": [
    "### So N values have been filled in by the custom class imputer with the dictinary found by the .fit()\n",
    "\n",
    "### Start this again and use the .fit_transform() method that's been inherited from the base classes"
   ]
  },
  {
   "cell_type": "code",
   "execution_count": 9,
   "metadata": {},
   "outputs": [
    {
     "name": "stdout",
     "output_type": "stream",
     "text": [
      "<class 'pandas.core.frame.DataFrame'>\n",
      "RangeIndex: 1000 entries, 0 to 999\n",
      "Data columns (total 3 columns):\n",
      " #   Column       Non-Null Count  Dtype  \n",
      "---  ------       --------------  -----  \n",
      " 0   boatClass    1000 non-null   object \n",
      " 1   boatLength   1000 non-null   int64  \n",
      " 2   boatEngines  800 non-null    float64\n",
      "dtypes: float64(1), int64(1), object(1)\n",
      "memory usage: 23.6+ KB\n"
     ]
    }
   ],
   "source": [
    "df = pd.read_csv('data.csv').iloc[:,1:]\n",
    "df.info()"
   ]
  },
  {
   "cell_type": "code",
   "execution_count": 10,
   "metadata": {},
   "outputs": [
    {
     "data": {
      "text/html": [
       "<div>\n",
       "<style scoped>\n",
       "    .dataframe tbody tr th:only-of-type {\n",
       "        vertical-align: middle;\n",
       "    }\n",
       "\n",
       "    .dataframe tbody tr th {\n",
       "        vertical-align: top;\n",
       "    }\n",
       "\n",
       "    .dataframe thead th {\n",
       "        text-align: right;\n",
       "    }\n",
       "</style>\n",
       "<table border=\"1\" class=\"dataframe\">\n",
       "  <thead>\n",
       "    <tr style=\"text-align: right;\">\n",
       "      <th></th>\n",
       "      <th>boatClass</th>\n",
       "      <th>boatLength</th>\n",
       "      <th>boatEngines</th>\n",
       "      <th>boatEngines_na</th>\n",
       "    </tr>\n",
       "  </thead>\n",
       "  <tbody>\n",
       "    <tr>\n",
       "      <th>0</th>\n",
       "      <td>C</td>\n",
       "      <td>10</td>\n",
       "      <td>1.0</td>\n",
       "      <td>0</td>\n",
       "    </tr>\n",
       "    <tr>\n",
       "      <th>1</th>\n",
       "      <td>D</td>\n",
       "      <td>45</td>\n",
       "      <td>4.0</td>\n",
       "      <td>0</td>\n",
       "    </tr>\n",
       "    <tr>\n",
       "      <th>2</th>\n",
       "      <td>D</td>\n",
       "      <td>23</td>\n",
       "      <td>3.0</td>\n",
       "      <td>0</td>\n",
       "    </tr>\n",
       "    <tr>\n",
       "      <th>3</th>\n",
       "      <td>A</td>\n",
       "      <td>0</td>\n",
       "      <td>4.0</td>\n",
       "      <td>0</td>\n",
       "    </tr>\n",
       "    <tr>\n",
       "      <th>4</th>\n",
       "      <td>D</td>\n",
       "      <td>7</td>\n",
       "      <td>1.0</td>\n",
       "      <td>0</td>\n",
       "    </tr>\n",
       "    <tr>\n",
       "      <th>...</th>\n",
       "      <td>...</td>\n",
       "      <td>...</td>\n",
       "      <td>...</td>\n",
       "      <td>...</td>\n",
       "    </tr>\n",
       "    <tr>\n",
       "      <th>995</th>\n",
       "      <td>C</td>\n",
       "      <td>57</td>\n",
       "      <td>3.0</td>\n",
       "      <td>0</td>\n",
       "    </tr>\n",
       "    <tr>\n",
       "      <th>996</th>\n",
       "      <td>B</td>\n",
       "      <td>50</td>\n",
       "      <td>0.0</td>\n",
       "      <td>0</td>\n",
       "    </tr>\n",
       "    <tr>\n",
       "      <th>997</th>\n",
       "      <td>D</td>\n",
       "      <td>50</td>\n",
       "      <td>3.0</td>\n",
       "      <td>0</td>\n",
       "    </tr>\n",
       "    <tr>\n",
       "      <th>998</th>\n",
       "      <td>E</td>\n",
       "      <td>24</td>\n",
       "      <td>0.0</td>\n",
       "      <td>0</td>\n",
       "    </tr>\n",
       "    <tr>\n",
       "      <th>999</th>\n",
       "      <td>C</td>\n",
       "      <td>1</td>\n",
       "      <td>0.0</td>\n",
       "      <td>0</td>\n",
       "    </tr>\n",
       "  </tbody>\n",
       "</table>\n",
       "<p>1000 rows × 4 columns</p>\n",
       "</div>"
      ],
      "text/plain": [
       "    boatClass  boatLength  boatEngines  boatEngines_na\n",
       "0           C          10          1.0               0\n",
       "1           D          45          4.0               0\n",
       "2           D          23          3.0               0\n",
       "3           A           0          4.0               0\n",
       "4           D           7          1.0               0\n",
       "..        ...         ...          ...             ...\n",
       "995         C          57          3.0               0\n",
       "996         B          50          0.0               0\n",
       "997         D          50          3.0               0\n",
       "998         E          24          0.0               0\n",
       "999         C           1          0.0               0\n",
       "\n",
       "[1000 rows x 4 columns]"
      ]
     },
     "execution_count": 10,
     "metadata": {},
     "output_type": "execute_result"
    }
   ],
   "source": [
    "imputer = MostCommonImputer('boatEngines', 'boatLength')\n",
    "imputer.fit_transform(df)"
   ]
  },
  {
   "cell_type": "code",
   "execution_count": 11,
   "metadata": {},
   "outputs": [
    {
     "name": "stdout",
     "output_type": "stream",
     "text": [
      "<class 'pandas.core.frame.DataFrame'>\n",
      "RangeIndex: 1000 entries, 0 to 999\n",
      "Data columns (total 4 columns):\n",
      " #   Column          Non-Null Count  Dtype  \n",
      "---  ------          --------------  -----  \n",
      " 0   boatClass       1000 non-null   object \n",
      " 1   boatLength      1000 non-null   int64  \n",
      " 2   boatEngines     1000 non-null   float64\n",
      " 3   boatEngines_na  1000 non-null   int32  \n",
      "dtypes: float64(1), int32(1), int64(1), object(1)\n",
      "memory usage: 27.5+ KB\n"
     ]
    }
   ],
   "source": [
    "df.info()"
   ]
  },
  {
   "cell_type": "code",
   "execution_count": null,
   "metadata": {},
   "outputs": [],
   "source": []
  }
 ],
 "metadata": {
  "kernelspec": {
   "display_name": "Python 3",
   "language": "python",
   "name": "python3"
  },
  "language_info": {
   "codemirror_mode": {
    "name": "ipython",
    "version": 3
   },
   "file_extension": ".py",
   "mimetype": "text/x-python",
   "name": "python",
   "nbconvert_exporter": "python",
   "pygments_lexer": "ipython3",
   "version": "3.8.3"
  }
 },
 "nbformat": 4,
 "nbformat_minor": 4
}
